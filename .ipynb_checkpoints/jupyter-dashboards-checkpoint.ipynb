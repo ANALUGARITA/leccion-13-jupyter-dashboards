{
 "cells": [
  {
   "cell_type": "markdown",
   "metadata": {},
   "source": [
    "# Jupyter dashboards\n",
    "\n",
    "[Jupyter dasboards](https://jupyter-dashboards-layout.readthedocs.io/) es una extensión de Jupyter notebooks que permite organizar los elementos de un notebook en diferentes configuraciones (*layouts*) (ej. lista, cuadrícula, reporte).\n",
    "\n",
    "En este notebook, se utiliza conjuntamente con la biblioteca de graficación [Plotly](https://plotly.com/python/) y con la biblioteca de controles interactivos [ipywidgets](https://ipywidgets.readthedocs.io/)."
   ]
  },
  {
   "cell_type": "code",
   "execution_count": null,
   "metadata": {},
   "outputs": [],
   "source": [
    "from __future__ import print_function\n",
    "\n",
    "import pandas as pd\n",
    "import numpy as np\n",
    "\n",
    "import plotly.express as px\n",
    "import plotly.graph_objects as go\n",
    "\n",
    "from ipywidgets import interact, interactive, fixed, interact_manual\n",
    "import ipywidgets as widgets\n",
    "\n",
    "import folium"
   ]
  },
  {
   "cell_type": "markdown",
   "metadata": {},
   "source": [
    "### Datos de casos de COVID-19 en Costa Rica"
   ]
  },
  {
   "cell_type": "code",
   "execution_count": null,
   "metadata": {},
   "outputs": [],
   "source": [
    "# Casos positivos, activos, recuperados, fallecidos para todas las fechas\n",
    "positivos_df = pd.read_csv(\"https://raw.githubusercontent.com/tpb708-programacionsig-2020/datos/main/covid19/ministerio-salud/11_04_CSV_POSITIVOS.csv\", \n",
    "                           encoding = \"latin\")\n",
    "activos_df = pd.read_csv(\"https://raw.githubusercontent.com/tpb708-programacionsig-2020/datos/main/covid19/ministerio-salud/11_04_CSV_ACTIVOS.csv\", \n",
    "                           encoding = \"latin\")\n",
    "recuperados_df = pd.read_csv(\"https://raw.githubusercontent.com/tpb708-programacionsig-2020/datos/main/covid19/ministerio-salud/11_04_CSV_RECUP.csv\", \n",
    "                           encoding = \"latin\")\n",
    "fallecidos_df = pd.read_csv(\"https://raw.githubusercontent.com/tpb708-programacionsig-2020/datos/main/covid19/ministerio-salud/11_04_CSV_FALLECIDOS.csv\", \n",
    "                            encoding = \"latin\")\n",
    "\n",
    "# Casos positivos, activos, recuperados, fallecidos para la última fecha\n",
    "ultima_fecha_df = pd.read_csv(\"https://raw.githubusercontent.com/tpb708-programacionsig-2020/datos/main/covid19/ministerio-salud/11_04_CSV_ULTIMA_FECHA.csv\", \n",
    "                               encoding = \"latin\")"
   ]
  },
  {
   "cell_type": "markdown",
   "metadata": {},
   "source": [
    "### Gráfico interactivo de cantones con más casos"
   ]
  },
  {
   "cell_type": "code",
   "execution_count": null,
   "metadata": {},
   "outputs": [],
   "source": [
    "ultima_fecha_ordenado_df = ultima_fecha_df.sort_values(\"positivos\", ascending=False)\n",
    "\n",
    "fig = px.scatter(ultima_fecha_ordenado_df.head(10), \n",
    "                 x=\"canton\", y=\"positivos\", \n",
    "                 size=\"positivos\", \n",
    "                 color=\"positivos\", \n",
    "                 hover_name=\"canton\", \n",
    "                 size_max=60)\n",
    "\n",
    "fig.show()"
   ]
  },
  {
   "cell_type": "markdown",
   "metadata": {},
   "source": [
    "### Gráfico interactivo de evolución temporal de los casos en un cantón"
   ]
  },
  {
   "cell_type": "code",
   "execution_count": null,
   "metadata": {},
   "outputs": [],
   "source": [
    "def grafico_casos_en_canton(canton):\n",
    "    labels = [\"Positivos\", \"Activos\"]\n",
    "    colors = [\"blue\", \"red\"]\n",
    "    mode_size = [8, 8]\n",
    "    line_size = [4, 4]\n",
    "\n",
    "    df_list = [positivos_df, activos_df]\n",
    "\n",
    "    fig = go.Figure()\n",
    "\n",
    "    for i, df in enumerate(df_list):\n",
    "        if canton == \"Costa Rica\":\n",
    "            x_data = np.array(list(df.iloc[:, 4:].columns))\n",
    "            y_data = np.sum(np.asarray(df.iloc[:, 4:]), axis=0)\n",
    "        else:\n",
    "            x_data = np.array(list(df.iloc[:, 4:].columns))\n",
    "            y_data = np.sum(np.asarray(df[df[\"canton\"]==canton].iloc[:, 4:]), axis=0)\n",
    "\n",
    "        fig.add_trace(go.Scatter(x=x_data, y=y_data, mode=\"lines+markers\",\n",
    "                                 name=labels[i],\n",
    "                                 line=dict(color=colors[i], width=line_size[i]),\n",
    "                                 connectgaps=True,\n",
    "                                 text=\"Total \" + str(labels[i]) + \": \" + str(y_data[-1])\n",
    "                                 ))\n",
    "\n",
    "    fig.show()\n",
    "\n",
    "# grafico_casos_en_canton(\"Alajuela\")\n",
    "\n",
    "interact(grafico_casos_en_canton, canton=\"Costa Rica\")"
   ]
  },
  {
   "cell_type": "markdown",
   "metadata": {},
   "source": [
    "**Ejercicio**: incorpore líneas de casos recuperados y fallecidos en el gráfico anterior."
   ]
  },
  {
   "cell_type": "markdown",
   "metadata": {},
   "source": [
    "### Mapa de casos por tipo en cantones"
   ]
  },
  {
   "cell_type": "code",
   "execution_count": null,
   "metadata": {
    "extensions": {
     "jupyter_dashboards": {
      "version": 1,
      "views": {
       "grid_default": {},
       "report_default": {
        "hidden": true
       }
      }
     }
    }
   },
   "outputs": [],
   "source": [
    "# GeoJSON de cantones\n",
    "geo_cantones = r'https://raw.githubusercontent.com/tpb708-programacionsig-2020/datos/main/delimitacion-territorial-administrativa/cr/ign/cr_limite_cantonal_ign_wgs84.geojson'\n",
    "\n",
    "# Mapa base\n",
    "m = folium.Map(\n",
    "    location=[10, -84], \n",
    "    zoom_start=7, \n",
    "    tiles='openstreetmap')\n",
    "\n",
    "\n",
    "# Capa de coropletas coloreada de acuerdo con el campo de casos positivos.\n",
    "# El enlace entre los datos geoespaciales y tabulares se realiza a través del campo \"cod_canton\" del dataframe\n",
    "# y el campo del mismo nombre en el archivo GeoJSON.\n",
    "m.choropleth(\n",
    "    geo_data=geo_cantones,\n",
    "    data=ultima_fecha_df,\n",
    "    columns=['cod_canton', 'positivos'],\n",
    "    key_on='feature.properties.cod_canton',\n",
    "    fill_color='YlGnBu', \n",
    "    fill_opacity=1, \n",
    "    line_opacity=1,\n",
    "    legend_name='Casos positivos',\n",
    "    smooth_factor=0)\n",
    "\n",
    "\n",
    "# Despliegue del mapa\n",
    "m"
   ]
  },
  {
   "cell_type": "markdown",
   "metadata": {},
   "source": [
    "**Ejercicio:** incorpore interactividad en el mapa anterior, de manera que el usuario pueda especificar el tipo de casos que desea representar en el mapa de coropletas (positivos, activos, etc.)"
   ]
  },
  {
   "cell_type": "code",
   "execution_count": null,
   "metadata": {},
   "outputs": [],
   "source": []
  }
 ],
 "metadata": {
  "extensions": {
   "jupyter_dashboards": {
    "activeView": "grid_default",
    "version": 1,
    "views": {
     "grid_default": {
      "cellMargin": 10,
      "defaultCellHeight": 20,
      "maxColumns": 12,
      "name": "grid",
      "type": "grid"
     },
     "report_default": {
      "name": "report",
      "type": "report"
     }
    }
   }
  },
  "kernelspec": {
   "display_name": "Python 3",
   "language": "python",
   "name": "python3"
  },
  "language_info": {
   "codemirror_mode": {
    "name": "ipython",
    "version": 3
   },
   "file_extension": ".py",
   "mimetype": "text/x-python",
   "name": "python",
   "nbconvert_exporter": "python",
   "pygments_lexer": "ipython3",
   "version": "3.7.8"
  }
 },
 "nbformat": 4,
 "nbformat_minor": 4
}
